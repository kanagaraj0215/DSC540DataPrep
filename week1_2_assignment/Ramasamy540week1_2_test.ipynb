{
 "cells": [
  {
   "cell_type": "markdown",
   "id": "a99abce5",
   "metadata": {},
   "source": [
    "# 2. Create a Jupyter notebook where you create a list, iterate over the list and sort your results, generate random numbers, add to the list, and then print your results."
   ]
  },
  {
   "cell_type": "code",
   "execution_count": null,
   "id": "5c5d3d67",
   "metadata": {},
   "outputs": [],
   "source": [
    "list_assign1 = [61, 37, 24, 45, 89, 46, -18, 0, 22]"
   ]
  },
  {
   "cell_type": "code",
   "execution_count": null,
   "id": "d8d77c8a",
   "metadata": {},
   "outputs": [],
   "source": [
    "for val in list_assign1:\n",
    "    print(val)"
   ]
  },
  {
   "cell_type": "code",
   "execution_count": null,
   "id": "2b8f8226",
   "metadata": {},
   "outputs": [],
   "source": [
    "list_assign1.sort()\n",
    "list_assign1"
   ]
  },
  {
   "cell_type": "code",
   "execution_count": null,
   "id": "ab0cd644",
   "metadata": {},
   "outputs": [],
   "source": [
    "import random\n",
    "\n",
    "for val1 in random.sample(range(1, 100), 5):\n",
    "    list_assign1.append(val1)\n",
    "    \n",
    "list_assign1    "
   ]
  },
  {
   "cell_type": "markdown",
   "id": "3dfe0f02",
   "metadata": {},
   "source": [
    "# 3. Create a line chart with Matplotlib and the following data file.\n",
    "a. Data file: world-population.xlsm\n",
    "b. (Hint: Python for Data Analysis: Page 19-50 & Data Wrangling with Python: Preface)"
   ]
  },
  {
   "cell_type": "code",
   "execution_count": null,
   "id": "2b491bd0",
   "metadata": {},
   "outputs": [],
   "source": [
    "import pandas as pd\n",
    "import matplotlib.pyplot as plt\n",
    "\n",
    "file_path = 'C:/Users/kanag/Desktop/MS_degress/Data_Preparation_5/git/DSC540DataPrep/week1_2_assignment/world-population.xlsm'\n",
    "world_pop_df = pd.read_excel(file_path, sheet_name=0)\n",
    "type(world_pop_df)\n",
    "plt.plot(world_pop_df.Year,world_pop_df.Population)\n",
    "plt.xlabel(\"Year\")\n",
    "plt.ylabel(\"Population\")\n",
    "plt.title(\"Year vs Population\")\n",
    "plt.show()"
   ]
  },
  {
   "cell_type": "markdown",
   "id": "903b59ea",
   "metadata": {},
   "source": [
    "# 4. Complete the following activities:"
   ]
  },
  {
   "cell_type": "markdown",
   "id": "f0cc53d2",
   "metadata": {},
   "source": [
    "## a. Data Wrangling with Python: Activity 1 page 17\n",
    "Activity 1: Handling Lists\n",
    "In this activity, we will generate a list of random numbers and then generate another list from the first one, which only contains numbers that are divisible by three. Repeat the experiment three times. Then, we will calculate the average difference of length between the two lists.\n",
    "\n",
    "These are the steps for completing this activity:\n",
    "\n",
    "1. Create a list of 100 random numbers.\n",
    "2. Create a new list from this random list, with numbers that are divisible by 3.\n",
    "3. Calculate the length of these two lists and store the difference in a new variable.\n",
    "4. Using a loop, perform steps 2 and 3 and find the difference variable three times.\n",
    "5. Find the arithmetic mean of these three difference values."
   ]
  },
  {
   "cell_type": "code",
   "execution_count": null,
   "id": "e1c1e62b",
   "metadata": {},
   "outputs": [],
   "source": [
    "list1 = [ x for x in random.sample(range(1, 1000), 100) ]\n"
   ]
  },
  {
   "cell_type": "code",
   "execution_count": null,
   "id": "c53840cc",
   "metadata": {},
   "outputs": [],
   "source": [
    "list2 = [x for x in list1 if x % 3 ==0]\n",
    "list2"
   ]
  },
  {
   "cell_type": "code",
   "execution_count": null,
   "id": "f0ff7328",
   "metadata": {},
   "outputs": [],
   "source": [
    "list1_random_num_len = len(list1)\n",
    "list2_3_div_num_len = len(list2)\n",
    "lists_len_diff = list1_random_num_len - list2_3_div_num_len\n",
    "\n"
   ]
  },
  {
   "cell_type": "code",
   "execution_count": null,
   "id": "e70b8c64",
   "metadata": {},
   "outputs": [],
   "source": [
    "diff_var_list= []\n",
    "i = 1\n",
    "while i < 4:\n",
    "    list1 = [ x for x in random.sample(range(1, 1000), 100) ]\n",
    "    list2 = [x for x in list1 if x % 3 ==0]\n",
    "    list1_random_num_len = len(list1)\n",
    "    list2_3_div_num_len = len(list2)\n",
    "    lists_len_diff = list1_random_num_len - list2_3_div_num_len\n",
    "    diff_var_list.append(lists_len_diff)\n",
    "    i += 1\n",
    "    \n",
    "diff_var_list    \n",
    "    \n",
    "    "
   ]
  },
  {
   "cell_type": "markdown",
   "id": "863c38f9",
   "metadata": {},
   "source": []
  },
  {
   "cell_type": "code",
   "execution_count": null,
   "id": "aa044f6e",
   "metadata": {},
   "outputs": [],
   "source": [
    "mean_val = sum(diff_var_list) / len(diff_var_list)\n",
    "mean_val"
   ]
  },
  {
   "cell_type": "markdown",
   "id": "eb282ae7",
   "metadata": {},
   "source": [
    "## b. Data Wrangling with Python: Activity 2 page 31\n",
    "Activity 2: Analyze a Multiline String and Generate the Unique Word Count\n",
    "This section will ensure that you have understood the various basic data structures and their manipulation. We will do that by going through an activity that has been designed specifically for this purpose.\n",
    "\n",
    "In this activity, we will do the following:\n",
    "\n",
    "Get multiline text and save it in a Python variable\n",
    "Get rid of all new lines in it using string methods\n",
    "Get all the unique words and their occurrences from the string\n",
    "Repeat the step to find all unique words and occurrences, without considering case sensitivity\n",
    "Note\n",
    "For the sake of simplicity for this activity, the original text (which can be found at https://www.gutenberg.org/files/1342/1342-h/1342-h.htm) has been pre-processed a bit.\n",
    "\n",
    "These are the steps to guide you through solving this activity:\n",
    "\n",
    "Create a mutliline_text variable by copying the text from the first chapter of Pride and Prejudice.\n",
    "Note\n",
    "The first chapter of Pride and Prejudice by Jane Austen has been made available on the GitHub repository at https://github.com/TrainingByPackt/Data-Wrangling-with-Python/blob/master/Chapter01/Activity02/.\n",
    "\n",
    "Find the type and length of the multiline_text string using the commands type and len.\n",
    "Remove all new lines and symbols using the replace function.\n",
    "Find all of the words in multiline_text using the split function.\n",
    "Create a list from this list that will contain only the unique words.\n",
    "Count the number of times the unique word has appeared in the list using the key and value in dict.\n",
    "Find the top 25 words from the unique words that you have found using the slice function.\n",
    "You just created, step by step, a unique word counter using all the neat tricks that you learned about in this chapter."
   ]
  },
  {
   "cell_type": "code",
   "execution_count": null,
   "id": "1d6cc278",
   "metadata": {},
   "outputs": [],
   "source": [
    "mutiline_text = \"\"\"It is a truth universally acknowledged, that a single man in possession of a good fortune, must be in want of a wife.\n",
    "\n",
    "However little known the feelings or views of such a man may be on his first entering a neighbourhood, this truth is so well fixed in the minds of the surrounding families, that he is considered the rightful property of some one or other of their daughters.\n",
    "\n",
    "\"My dear Mr. Bennet,\" said his lady to him one day, \"have you heard that Netherfield Park is let at last?\"\n",
    "\n",
    "Mr. Bennet replied that he had not.\n",
    "\n",
    "\"But it is,\" returned she; \"for Mrs. Long has just been here, and she told me all about it.\"\n",
    "\n",
    "Mr. Bennet made no answer.\n",
    "\n",
    "\"Do you not want to know who has taken it?\" cried his wife impatiently.\n",
    "\n",
    "\"You want to tell me, and I have no objection to hearing it.\"\n",
    "\n",
    "This was invitation enough.\n",
    "\n",
    "\"Why, my dear, you must know, Mrs. Long says that Netherfield is taken by a young man of large fortune from the north of England; that he came down on Monday in a chaise and four to see the place, and was so much delighted with it, that he agreed with Mr. Morris immediately; that he is to take possession before Michaelmas, and some of his servants are to be in the house by the end of next week.\"\n",
    "\n",
    "\"What is his name?\"\n",
    "\n",
    "\"Bingley.\"\n",
    "\n",
    "\"Is he married or single?\"\n",
    "\n",
    "\"Oh! Single, my dear, to be sure! A single man of large fortune; four or five thousand a year. What a fine thing for our girls!\"\n",
    "\n",
    "\"How so? How can it affect them?\"\n",
    "\n",
    "\"My dear Mr. Bennet,\" replied his wife, \"how can you be so tiresome! You must know that I am thinking of his marrying one of them.\"\n",
    "\n",
    "\"Is that his design in settling here?\"\n",
    "\n",
    "\"Design! Nonsense, how can you talk so! But it is very likely that he may fall in love with one of them, and therefore you must visit him as soon as he comes.\"\n",
    "\n",
    "\"I see no occasion for that. You and the girls may go, or you may send them by themselves, which perhaps will be still better, for as you are as handsome as any of them, Mr. Bingley may like you the best of the party.\"\n",
    "\n",
    "\"My dear, you flatter me. I certainly have had my share of beauty, but I do not pretend to be anything extraordinary now. When a woman has five grown-up daughters, she ought to give over thinking of her own beauty.\"\n",
    "\n",
    "\"In such cases, a woman has not often much beauty to think of.\"\n",
    "\n",
    "\"But, my dear, you must indeed go and see Mr. Bingley when he comes into the neighbourhood.\"\n",
    "\n",
    "\"It is more than I engage for, I assure you.\"\n",
    "\n",
    "\"But consider your daughters. Only think what an establishment it would be for one of them. Sir William and Lady Lucas are determined to go, merely on that account, for in general, you know, they visit no newcomers. Indeed you must go, for it will be impossible for us to visit him if you do not.\"\n",
    "\n",
    "\"You are over-scrupulous, surely. I dare say Mr. Bingley will be very glad to see you; and I will send a few lines by you to assure him of my hearty consent to his marrying whichever he chooses of the girls; though I must throw in a good word for my little Lizzy.\"\n",
    "\n",
    "\"I desire you will do no such thing. Lizzy is not a bit better than the others; and I am sure she is not half so handsome as Jane, nor half so good-humoured as Lydia. But you are always giving her the preference.\"\n",
    "\n",
    "\"They have none of them much to recommend them,\" replied he; \"they are all silly and ignorant like other girls; but Lizzy has something more of quickness than her sisters.\"\n",
    "\n",
    "\"Mr. Bennet, how can you abuse your own children in such a way? You take delight in vexing me. You have no compassion for my poor nerves.\"\n",
    "\n",
    "\"You mistake me, my dear. I have a high respect for your nerves. They are my old friends. I have heard you mention them with consideration these last twenty years at least.\"\n",
    "\n",
    "\"Ah, you do not know what I suffer.\"\n",
    "\n",
    "\"But I hope you will get over it, and live to see many young men of four thousand a year come into the neighbourhood.\"\n",
    "\n",
    "\"It will be no use to us, if twenty such should come, since you will not visit them.\"\n",
    "\n",
    "\"Depend upon it, my dear, that when there are twenty, I will visit them all.\"\n",
    "\n",
    "Mr. Bennet was so odd a mixture of quick parts, sarcastic humour, reserve, and caprice, that the experience of three-and-twenty years had been insufficient to make his wife understand his character. Her mind was less difficult to develop. She was a woman of mean understanding, little information, and uncertain temper. When she was discontented, she fancied herself nervous. The business of her life was to get her daughters married; its solace was visiting and news. \"\"\"\n"
   ]
  },
  {
   "cell_type": "code",
   "execution_count": null,
   "id": "01b925fd",
   "metadata": {},
   "outputs": [],
   "source": [
    "type(mutiline_text)"
   ]
  },
  {
   "cell_type": "code",
   "execution_count": null,
   "id": "630bd491",
   "metadata": {},
   "outputs": [],
   "source": [
    "len(mutiline_text)"
   ]
  },
  {
   "cell_type": "code",
   "execution_count": null,
   "id": "0f99e2cf",
   "metadata": {},
   "outputs": [],
   "source": [
    "mutiline_text = mutiline_text.replace('\\n', \"\")"
   ]
  },
  {
   "cell_type": "code",
   "execution_count": null,
   "id": "256eaa77",
   "metadata": {},
   "outputs": [],
   "source": [
    "cleansed_text = \"\"\n",
    "\n",
    "for character in mutiline_text:\n",
    "    if character.isalnum():\n",
    "        cleansed_text += character\n",
    "    else:\n",
    "         cleansed_text += \" \"\n",
    "cleansed_text  "
   ]
  },
  {
   "cell_type": "code",
   "execution_count": null,
   "id": "b763685f",
   "metadata": {},
   "outputs": [],
   "source": [
    "word_list = cleansed_text.split()"
   ]
  },
  {
   "cell_type": "code",
   "execution_count": null,
   "id": "e1cbb0ec",
   "metadata": {},
   "outputs": [],
   "source": [
    "unique_word_list = list(set(word_list))\n",
    "len(unique_word_list)"
   ]
  },
  {
   "cell_type": "code",
   "execution_count": null,
   "id": "988b0058",
   "metadata": {},
   "outputs": [],
   "source": [
    "uniq_word_count_dict = dict.fromkeys(word_list)\n",
    "len(uniq_word_count_dict.keys())"
   ]
  },
  {
   "cell_type": "code",
   "execution_count": null,
   "id": "513d282d",
   "metadata": {},
   "outputs": [],
   "source": [
    "for key in word_list:\n",
    "    if uniq_word_count_dict[key] is None:\n",
    "        uniq_word_count_dict[key] = 1\n",
    "    else:    \n",
    "        uniq_word_count_dict[key] += 1\n",
    "    "
   ]
  },
  {
   "cell_type": "code",
   "execution_count": null,
   "id": "bded9eb5",
   "metadata": {},
   "outputs": [],
   "source": [
    "top_25_word_counts = sorted(uniq_word_count_dict.items(), key = lambda x:x[1],reverse=True)[:25]\n",
    "top_25_word_counts"
   ]
  },
  {
   "cell_type": "code",
   "execution_count": null,
   "id": "8a72857c",
   "metadata": {},
   "outputs": [],
   "source": []
  },
  {
   "cell_type": "markdown",
   "id": "2ba34958",
   "metadata": {},
   "source": [
    "# 3. Activity 3: Permutation, Iterator, Lambda, List\n",
    "In this activity, we will be using permutations to generate all possible three-digit numbers that can be generated using 0, 1, and 2. Then, loop over this iterator, and also use isinstance and assert to make sure that the return types are tuples. Also, use a single line of code involving dropwhile and lambda expressions to convert all the tuples to lists while dropping any leading zeros (for example, (0, 1, 2) becomes [1, 2]). Finally, write a function that takes a list like before and returns the actual number contained in it.\n",
    "\n",
    "These steps will guide you to solve this activity:\n",
    "\n",
    "Look up the definition of permutations and dropwhile from itertools.\n",
    "Write an expression to generate all the possible three-digit numbers using 0, 1, and 2.\n",
    "Loop over the iterator expression you generated before. Print each element that's returned by the iterator. Use assert and isinstance to make sure that the elements are of the tuple type.\n",
    "Write the loop again using dropwhile with a lambda expression to drop any leading zeros from the tuples. As an example, (0, 1, 2) will become [0, 2]. Also, cast the output of dropwhile to a list.\n",
    "Check the actual type that dropwhile returns.\n",
    "Combine the preceding code into one block, and this time write a separate function where you will pass the list generated from dropwhile, and the function will return the whole number contained in the list. As an example, if you pass [1, 2] to the function, it will return 12. Make sure that the return type is indeed a number and not a string. Although this task can be achieved using other tricks, we require that you treat the incoming list as a stack in the function and generate the number by reading the individual digits from the stack."
   ]
  },
  {
   "cell_type": "code",
   "execution_count": null,
   "id": "aca294f3",
   "metadata": {},
   "outputs": [],
   "source": [
    "from itertools import  (permutations, combinations, dropwhile, repeat,zip_longest)\n",
    "\n",
    "permutations?\n"
   ]
  },
  {
   "cell_type": "code",
   "execution_count": null,
   "id": "fd9406fd",
   "metadata": {},
   "outputs": [],
   "source": [
    "dropwhile?"
   ]
  },
  {
   "cell_type": "code",
   "execution_count": null,
   "id": "4bb1951a",
   "metadata": {},
   "outputs": [],
   "source": [
    "perm_iter = permutations(range(3), 3)\n",
    "for i in perm_iter:\n",
    "    print(i)\n",
    "    assert isinstance(i, tuple)\n",
    "\n",
    "\n"
   ]
  },
  {
   "cell_type": "code",
   "execution_count": null,
   "id": "f66cb1c8",
   "metadata": {},
   "outputs": [],
   "source": [
    "perm_iter_dropwhile = permutations(range(3), 3)\n",
    "\n",
    "list_dropwhile = []\n",
    "\n",
    "for i in perm_iter_dropwhile:\n",
    "    dropwhile_out = dropwhile(lambda x: x <= 0, i)\n",
    "    print(type(dropwhile_out))\n",
    "    list_dropwhile.append(list(dropwhile_out))\n",
    "\n",
    "print(list_dropwhile)"
   ]
  },
  {
   "cell_type": "code",
   "execution_count": null,
   "id": "78a8cfae",
   "metadata": {},
   "outputs": [],
   "source": [
    "import math\n",
    "\n",
    "def create_number(list_input):\n",
    "    out_number =0\n",
    "    for i in range(0,len(list_input)):\n",
    "        out_number += (list_input.pop() * (math.pow(10,i)))\n",
    "        \n",
    "    return out_number    \n",
    "    "
   ]
  },
  {
   "cell_type": "code",
   "execution_count": null,
   "id": "3b870379",
   "metadata": {},
   "outputs": [],
   "source": [
    "for i in list_dropwhile:\n",
    "    print(create_number(i))"
   ]
  },
  {
   "cell_type": "code",
   "execution_count": null,
   "id": "59ae0ec0",
   "metadata": {},
   "outputs": [],
   "source": [
    "math.pow(10,1)"
   ]
  },
  {
   "cell_type": "markdown",
   "id": "4e9d0c7b",
   "metadata": {},
   "source": [
    "## d. Data Wrangling with Python: Activity 4 page 59"
   ]
  },
  {
   "cell_type": "code",
   "execution_count": 31,
   "id": "8e24d085",
   "metadata": {},
   "outputs": [],
   "source": [
    "from itertools import zip_longest"
   ]
  },
  {
   "cell_type": "code",
   "execution_count": 35,
   "id": "31c8136b",
   "metadata": {},
   "outputs": [],
   "source": [
    "def create_dict_from_csv(headers, l):\n",
    "    out_dict={}\n",
    "    zipped_l = zip_longest(headers, l, fillvalue=None)\n",
    "    \n",
    "    for key_value in zipped_l:\n",
    "        out_dict[key_value[0]] = key_value[1]\n",
    "    return out_dict\n",
    "        "
   ]
  },
  {
   "cell_type": "code",
   "execution_count": 36,
   "id": "e0e56c38",
   "metadata": {},
   "outputs": [
    {
     "name": "stdout",
     "output_type": "stream",
     "text": [
      "File is Open \n",
      "['Region', 'Country', 'Item Type', 'Sales Channel', 'Order Priority', 'Order Date', 'Order ID', 'Ship Date', 'Units Sold', 'Unit Price', 'Unit Cost', 'Total Revenue', 'Total Cost', 'Total Profit']\n",
      "{'Region': 'Central America and the Caribbean', 'Country': 'Antigua and Barbuda ', 'Item Type': 'Baby Food', 'Sales Channel': 'Online', 'Order Priority': 'M', 'Order Date': '12/20/2013', 'Order ID': '957081544', 'Ship Date': '1/11/2014', 'Units Sold': '552', 'Unit Price': '255.28', 'Unit Cost': '159.42', 'Total Revenue': '140914.56', 'Total Cost': '87999.84', 'Total Profit': '52914.72'}\n",
      "{'Region': 'Central America and the Caribbean', 'Country': 'Panama', 'Item Type': 'Snacks', 'Sales Channel': 'Offline', 'Order Priority': 'C', 'Order Date': '7/5/2010', 'Order ID': '301644504', 'Ship Date': '7/26/2010', 'Units Sold': '2167', 'Unit Price': '152.58', 'Unit Cost': '97.44', 'Total Revenue': '330640.86', 'Total Cost': '211152.48', 'Total Profit': '119488.38'}\n",
      "{'Region': 'Europe', 'Country': 'Czech Republic', 'Item Type': 'Beverages', 'Sales Channel': 'Offline', 'Order Priority': 'C', 'Order Date': '9/12/2011', 'Order ID': '478051030', 'Ship Date': '9/29/2011', 'Units Sold': '4778', 'Unit Price': '47.45', 'Unit Cost': '31.79', 'Total Revenue': '226716.10', 'Total Cost': '151892.62', 'Total Profit': '74823.48'}\n",
      "{'Region': 'Asia', 'Country': 'North Korea', 'Item Type': 'Cereal', 'Sales Channel': 'Offline', 'Order Priority': 'L', 'Order Date': '5/13/2010', 'Order ID': '892599952', 'Ship Date': '6/15/2010', 'Units Sold': '9016', 'Unit Price': '205.70', 'Unit Cost': '117.11', 'Total Revenue': '1854591.20', 'Total Cost': '1055863.76', 'Total Profit': '798727.44'}\n",
      "{'Region': 'Asia', 'Country': 'Sri Lanka', 'Item Type': 'Snacks', 'Sales Channel': 'Offline', 'Order Priority': 'C', 'Order Date': '7/20/2015', 'Order ID': '571902596', 'Ship Date': '7/27/2015', 'Units Sold': '7542', 'Unit Price': '152.58', 'Unit Cost': '97.44', 'Total Revenue': '1150758.36', 'Total Cost': '734892.48', 'Total Profit': '415865.88'}\n",
      "{'Region': 'Middle East and North Africa', 'Country': 'Morocco', 'Item Type': 'Personal Care', 'Sales Channel': 'Offline', 'Order Priority': 'L', 'Order Date': '11/8/2010', 'Order ID': '412882792', 'Ship Date': '11/22/2010', 'Units Sold': '48', 'Unit Price': '81.73', 'Unit Cost': '56.67', 'Total Revenue': '3923.04', 'Total Cost': '2720.16', 'Total Profit': '1202.88'}\n",
      "{'Region': 'Australia and Oceania', 'Country': 'Federated States of Micronesia', 'Item Type': 'Clothes', 'Sales Channel': 'Offline', 'Order Priority': 'H', 'Order Date': '3/28/2011', 'Order ID': '932776868', 'Ship Date': '5/10/2011', 'Units Sold': '8258', 'Unit Price': '109.28', 'Unit Cost': '35.84', 'Total Revenue': '902434.24', 'Total Cost': '295966.72', 'Total Profit': '606467.52'}\n",
      "{'Region': 'Europe', 'Country': 'Bosnia and Herzegovina', 'Item Type': 'Clothes', 'Sales Channel': 'Online', 'Order Priority': 'M', 'Order Date': '10/14/2013', 'Order ID': '919133651', 'Ship Date': '11/4/2013', 'Units Sold': '927', 'Unit Price': '109.28', 'Unit Cost': '35.84', 'Total Revenue': '101302.56', 'Total Cost': '33223.68', 'Total Profit': '68078.88'}\n",
      "{'Region': 'Middle East and North Africa', 'Country': 'Afghanistan', 'Item Type': 'Clothes', 'Sales Channel': 'Offline', 'Order Priority': 'M', 'Order Date': '8/27/2016', 'Order ID': '579814469', 'Ship Date': '10/5/2016', 'Units Sold': '8841', 'Unit Price': '109.28', 'Unit Cost': '35.84', 'Total Revenue': '966144.48', 'Total Cost': '316861.44', 'Total Profit': '649283.04'}\n",
      "{'Region': 'Sub-Saharan Africa', 'Country': 'Ethiopia', 'Item Type': 'Baby Food', 'Sales Channel': 'Online', 'Order Priority': 'M', 'Order Date': '4/13/2015', 'Order ID': '192993152', 'Ship Date': '5/7/2015', 'Units Sold': '9817', 'Unit Price': '255.28', 'Unit Cost': '159.42', 'Total Revenue': '2506083.76', 'Total Cost': '1565026.14', 'Total Profit': '941057.62'}\n",
      "{'Region': 'Middle East and North Africa', 'Country': 'Turkey', 'Item Type': 'Office Supplies', 'Sales Channel': 'Offline', 'Order Priority': 'C', 'Order Date': '9/25/2013', 'Order ID': '557156026', 'Ship Date': '10/15/2013', 'Units Sold': '3704', 'Unit Price': '651.21', 'Unit Cost': '524.96', 'Total Revenue': '2412081.84', 'Total Cost': '1944451.84', 'Total Profit': '467630.00'}\n",
      "{'Region': 'Middle East and North Africa', 'Country': 'Oman', 'Item Type': 'Cosmetics', 'Sales Channel': 'Online', 'Order Priority': 'M', 'Order Date': '5/12/2013', 'Order ID': '741101920', 'Ship Date': '5/17/2013', 'Units Sold': '7382', 'Unit Price': '437.20', 'Unit Cost': '263.33', 'Total Revenue': '3227410.40', 'Total Cost': '1943902.06', 'Total Profit': '1283508.34'}\n",
      "{'Region': 'Asia', 'Country': 'Malaysia', 'Item Type': 'Cereal', 'Sales Channel': 'Offline', 'Order Priority': 'L', 'Order Date': '7/31/2016', 'Order ID': '333942162', 'Ship Date': '8/25/2016', 'Units Sold': '9762', 'Unit Price': '205.70', 'Unit Cost': '117.11', 'Total Revenue': '2008043.40', 'Total Cost': '1143227.82', 'Total Profit': '864815.58'}\n",
      "{'Region': 'Central America and the Caribbean', 'Country': 'Saint Lucia', 'Item Type': 'Cosmetics', 'Sales Channel': 'Offline', 'Order Priority': 'H', 'Order Date': '7/6/2015', 'Order ID': '795100581', 'Ship Date': '7/16/2015', 'Units Sold': '6786', 'Unit Price': '437.20', 'Unit Cost': '263.33', 'Total Revenue': '2966839.20', 'Total Cost': '1786957.38', 'Total Profit': '1179881.82'}\n",
      "{'Region': 'Central America and the Caribbean', 'Country': 'Saint Vincent and the Grenadines', 'Item Type': 'Baby Food', 'Sales Channel': 'Online', 'Order Priority': 'L', 'Order Date': '11/28/2010', 'Order ID': '504313504', 'Ship Date': '12/3/2010', 'Units Sold': '6428', 'Unit Price': '255.28', 'Unit Cost': '159.42', 'Total Revenue': '1640939.84', 'Total Cost': '1024751.76', 'Total Profit': '616188.08'}\n",
      "{'Region': 'Middle East and North Africa', 'Country': 'Lebanon', 'Item Type': 'Meat', 'Sales Channel': 'Offline', 'Order Priority': 'H', 'Order Date': '12/17/2015', 'Order ID': '611629760', 'Ship Date': '1/31/2016', 'Units Sold': '3693', 'Unit Price': '421.89', 'Unit Cost': '364.69', 'Total Revenue': '1558039.77', 'Total Cost': '1346800.17', 'Total Profit': '211239.60'}\n",
      "{'Region': 'Europe', 'Country': 'Austria', 'Item Type': 'Cereal', 'Sales Channel': 'Offline', 'Order Priority': 'C', 'Order Date': '8/13/2014', 'Order ID': '987410676', 'Ship Date': '9/6/2014', 'Units Sold': '5616', 'Unit Price': '205.70', 'Unit Cost': '117.11', 'Total Revenue': '1155211.20', 'Total Cost': '657689.76', 'Total Profit': '497521.44'}\n",
      "{'Region': 'Europe', 'Country': 'Bulgaria', 'Item Type': 'Office Supplies', 'Sales Channel': 'Online', 'Order Priority': 'L', 'Order Date': '10/31/2010', 'Order ID': '672330081', 'Ship Date': '11/29/2010', 'Units Sold': '6266', 'Unit Price': '651.21', 'Unit Cost': '524.96', 'Total Revenue': '4080481.86', 'Total Cost': '3289399.36', 'Total Profit': '791082.50'}\n",
      "{'Region': 'North America', 'Country': 'Mexico', 'Item Type': 'Beverages', 'Sales Channel': 'Online', 'Order Priority': 'C', 'Order Date': '3/13/2017', 'Order ID': '127374303', 'Ship Date': '3/20/2017', 'Units Sold': '1742', 'Unit Price': '47.45', 'Unit Cost': '31.79', 'Total Revenue': '82657.90', 'Total Cost': '55378.18', 'Total Profit': '27279.72'}\n",
      "{'Region': 'Central America and the Caribbean', 'Country': 'Trinidad and Tobago', 'Item Type': 'Baby Food', 'Sales Channel': 'Offline', 'Order Priority': 'C', 'Order Date': '4/16/2013', 'Order ID': '783842170', 'Ship Date': '6/1/2013', 'Units Sold': '5172', 'Unit Price': '255.28', 'Unit Cost': '159.42', 'Total Revenue': '1320308.16', 'Total Cost': '824520.24', 'Total Profit': '495787.92'}\n",
      "{'Region': 'Middle East and North Africa', 'Country': 'Libya', 'Item Type': 'Beverages', 'Sales Channel': 'Offline', 'Order Priority': 'L', 'Order Date': '1/18/2010', 'Order ID': '993345010', 'Ship Date': '3/3/2010', 'Units Sold': '1718', 'Unit Price': '47.45', 'Unit Cost': '31.79', 'Total Revenue': '81519.10', 'Total Cost': '54615.22', 'Total Profit': '26903.88'}\n",
      "{'Region': 'Middle East and North Africa', 'Country': 'Algeria', 'Item Type': 'Baby Food', 'Sales Channel': 'Offline', 'Order Priority': 'M', 'Order Date': '9/5/2015', 'Order ID': '977806651', 'Ship Date': '10/14/2015', 'Units Sold': '3572', 'Unit Price': '255.28', 'Unit Cost': '159.42', 'Total Revenue': '911860.16', 'Total Cost': '569448.24', 'Total Profit': '342411.92'}\n",
      "{'Region': 'Europe', 'Country': 'Estonia', 'Item Type': 'Fruits', 'Sales Channel': 'Online', 'Order Priority': 'L', 'Order Date': '9/28/2016', 'Order ID': '579463422', 'Ship Date': '11/1/2016', 'Units Sold': '4958', 'Unit Price': '9.33', 'Unit Cost': '6.92', 'Total Revenue': '46258.14', 'Total Cost': '34309.36', 'Total Profit': '11948.78'}\n",
      "{'Region': 'Australia and Oceania', 'Country': 'Tuvalu', 'Item Type': 'Beverages', 'Sales Channel': 'Offline', 'Order Priority': 'L', 'Order Date': '3/22/2012', 'Order ID': '610864150', 'Ship Date': '4/7/2012', 'Units Sold': '7132', 'Unit Price': '47.45', 'Unit Cost': '31.79', 'Total Revenue': '338413.40', 'Total Cost': '226726.28', 'Total Profit': '111687.12'}\n",
      "{'Region': 'Middle East and North Africa', 'Country': 'Saudi Arabia', 'Item Type': 'Snacks', 'Sales Channel': 'Offline', 'Order Priority': 'L', 'Order Date': '4/25/2017', 'Order ID': '604870164', 'Ship Date': '6/5/2017', 'Units Sold': '3378', 'Unit Price': '152.58', 'Unit Cost': '97.44', 'Total Revenue': '515415.24', 'Total Cost': '329152.32', 'Total Profit': '186262.92'}\n",
      "{'Region': 'Central America and the Caribbean', 'Country': 'Cuba', 'Item Type': 'Cereal', 'Sales Channel': 'Online', 'Order Priority': 'H', 'Order Date': '3/13/2014', 'Order ID': '164655292', 'Ship Date': '5/1/2014', 'Units Sold': '4015', 'Unit Price': '205.70', 'Unit Cost': '117.11', 'Total Revenue': '825885.50', 'Total Cost': '470196.65', 'Total Profit': '355688.85'}\n",
      "{'Region': 'Europe', 'Country': 'Montenegro', 'Item Type': 'Fruits', 'Sales Channel': 'Offline', 'Order Priority': 'L', 'Order Date': '5/29/2016', 'Order ID': '313705861', 'Ship Date': '7/10/2016', 'Units Sold': '1390', 'Unit Price': '9.33', 'Unit Cost': '6.92', 'Total Revenue': '12968.70', 'Total Cost': '9618.80', 'Total Profit': '3349.90'}\n",
      "{'Region': 'Central America and the Caribbean', 'Country': 'Guatemala', 'Item Type': 'Office Supplies', 'Sales Channel': 'Online', 'Order Priority': 'M', 'Order Date': '1/17/2012', 'Order ID': '345820701', 'Ship Date': '2/1/2012', 'Units Sold': '4885', 'Unit Price': '651.21', 'Unit Cost': '524.96', 'Total Revenue': '3181160.85', 'Total Cost': '2564429.60', 'Total Profit': '616731.25'}\n",
      "{'Region': 'Sub-Saharan Africa', 'Country': 'Guinea', 'Item Type': 'Baby Food', 'Sales Channel': 'Online', 'Order Priority': 'M', 'Order Date': '12/27/2012', 'Order ID': '975111138', 'Ship Date': '1/21/2013', 'Units Sold': '5910', 'Unit Price': '255.28', 'Unit Cost': '159.42', 'Total Revenue': '1508704.80', 'Total Cost': '942172.20', 'Total Profit': '566532.60'}\n",
      "{'Region': 'Australia and Oceania', 'Country': 'Vanuatu', 'Item Type': 'Snacks', 'Sales Channel': 'Online', 'Order Priority': 'C', 'Order Date': '4/1/2013', 'Order ID': '286001002', 'Ship Date': '4/15/2013', 'Units Sold': '2907', 'Unit Price': '152.58', 'Unit Cost': '97.44', 'Total Revenue': '443550.06', 'Total Cost': '283258.08', 'Total Profit': '160291.98'}\n",
      "{'Region': 'Middle East and North Africa', 'Country': 'United Arab Emirates', 'Item Type': 'Cosmetics', 'Sales Channel': 'Offline', 'Order Priority': 'H', 'Order Date': '6/26/2015', 'Order ID': '483226621', 'Ship Date': '8/6/2015', 'Units Sold': '6350', 'Unit Price': '437.20', 'Unit Cost': '263.33', 'Total Revenue': '2776220.00', 'Total Cost': '1672145.50', 'Total Profit': '1104074.50'}\n",
      "{'Region': 'Australia and Oceania', 'Country': 'Australia', 'Item Type': 'Clothes', 'Sales Channel': 'Offline', 'Order Priority': 'M', 'Order Date': '1/17/2012', 'Order ID': '241836822', 'Ship Date': '1/17/2012', 'Units Sold': '3744', 'Unit Price': '109.28', 'Unit Cost': '35.84', 'Total Revenue': '409144.32', 'Total Cost': '134184.96', 'Total Profit': '274959.36'}\n",
      "{'Region': 'Middle East and North Africa', 'Country': 'Oman', 'Item Type': 'Clothes', 'Sales Channel': 'Online', 'Order Priority': 'H', 'Order Date': '7/3/2011', 'Order ID': '557192933', 'Ship Date': '7/5/2011', 'Units Sold': '4626', 'Unit Price': '109.28', 'Unit Cost': '35.84', 'Total Revenue': '505529.28', 'Total Cost': '165795.84', 'Total Profit': '339733.44'}\n",
      "{'Region': 'Sub-Saharan Africa', 'Country': 'Malawi', 'Item Type': 'Meat', 'Sales Channel': 'Online', 'Order Priority': 'L', 'Order Date': '2/17/2012', 'Order ID': '694968783', 'Ship Date': '4/2/2012', 'Units Sold': '5562', 'Unit Price': '421.89', 'Unit Cost': '364.69', 'Total Revenue': '2346552.18', 'Total Cost': '2028405.78', 'Total Profit': '318146.40'}\n",
      "{'Region': 'Middle East and North Africa', 'Country': 'Lebanon', 'Item Type': 'Fruits', 'Sales Channel': 'Online', 'Order Priority': 'H', 'Order Date': '4/5/2013', 'Order ID': '441150701', 'Ship Date': '5/12/2013', 'Units Sold': '5150', 'Unit Price': '9.33', 'Unit Cost': '6.92', 'Total Revenue': '48049.50', 'Total Cost': '35638.00', 'Total Profit': '12411.50'}\n",
      "{'Region': 'Europe', 'Country': 'Czech Republic', 'Item Type': 'Cereal', 'Sales Channel': 'Online', 'Order Priority': 'M', 'Order Date': '7/8/2011', 'Order ID': '552037513', 'Ship Date': '8/5/2011', 'Units Sold': '9022', 'Unit Price': '205.70', 'Unit Cost': '117.11', 'Total Revenue': '1855825.40', 'Total Cost': '1056566.42', 'Total Profit': '799258.98'}\n",
      "{'Region': 'Australia and Oceania', 'Country': 'Vanuatu', 'Item Type': 'Cosmetics', 'Sales Channel': 'Offline', 'Order Priority': 'C', 'Order Date': '2/24/2012', 'Order ID': '504240548', 'Ship Date': '3/27/2012', 'Units Sold': '4838', 'Unit Price': '437.20', 'Unit Cost': '263.33', 'Total Revenue': '2115173.60', 'Total Cost': '1273990.54', 'Total Profit': '841183.06'}\n",
      "{'Region': 'Europe', 'Country': 'Luxembourg', 'Item Type': 'Vegetables', 'Sales Channel': 'Offline', 'Order Priority': 'L', 'Order Date': '2/13/2010', 'Order ID': '744683635', 'Ship Date': '4/1/2010', 'Units Sold': '7291', 'Unit Price': '154.06', 'Unit Cost': '90.93', 'Total Revenue': '1123251.46', 'Total Cost': '662970.63', 'Total Profit': '460280.83'}\n",
      "{'Region': 'Sub-Saharan Africa', 'Country': 'Benin', 'Item Type': 'Personal Care', 'Sales Channel': 'Online', 'Order Priority': 'L', 'Order Date': '8/7/2016', 'Order ID': '440603101', 'Ship Date': '9/15/2016', 'Units Sold': '3104', 'Unit Price': '81.73', 'Unit Cost': '56.67', 'Total Revenue': '253689.92', 'Total Cost': '175903.68', 'Total Profit': '77786.24'}\n",
      "{'Region': 'Middle East and North Africa', 'Country': 'Somalia', 'Item Type': 'Clothes', 'Sales Channel': 'Offline', 'Order Priority': 'L', 'Order Date': '4/26/2017', 'Order ID': '629547774', 'Ship Date': '5/3/2017', 'Units Sold': '6031', 'Unit Price': '109.28', 'Unit Cost': '35.84', 'Total Revenue': '659067.68', 'Total Cost': '216151.04', 'Total Profit': '442916.64'}\n",
      "{'Region': 'Europe', 'Country': 'Switzerland', 'Item Type': 'Meat', 'Sales Channel': 'Online', 'Order Priority': 'L', 'Order Date': '3/21/2014', 'Order ID': '169378983', 'Ship Date': '4/10/2014', 'Units Sold': '1860', 'Unit Price': '421.89', 'Unit Cost': '364.69', 'Total Revenue': '784715.40', 'Total Cost': '678323.40', 'Total Profit': '106392.00'}\n",
      "{'Region': 'Middle East and North Africa', 'Country': 'Saudi Arabia', 'Item Type': 'Personal Care', 'Sales Channel': 'Offline', 'Order Priority': 'L', 'Order Date': '2/2/2014', 'Order ID': '688270556', 'Ship Date': '3/4/2014', 'Units Sold': '3407', 'Unit Price': '81.73', 'Unit Cost': '56.67', 'Total Revenue': '278454.11', 'Total Cost': '193074.69', 'Total Profit': '85379.42'}\n",
      "{'Region': 'Asia', 'Country': 'Laos', 'Item Type': 'Meat', 'Sales Channel': 'Online', 'Order Priority': 'L', 'Order Date': '3/21/2017', 'Order ID': '734708821', 'Ship Date': '3/24/2017', 'Units Sold': '5522', 'Unit Price': '421.89', 'Unit Cost': '364.69', 'Total Revenue': '2329676.58', 'Total Cost': '2013818.18', 'Total Profit': '315858.40'}\n",
      "{'Region': 'Asia', 'Country': 'Kyrgyzstan', 'Item Type': 'Snacks', 'Sales Channel': 'Online', 'Order Priority': 'C', 'Order Date': '8/6/2013', 'Order ID': '727492606', 'Ship Date': '9/22/2013', 'Units Sold': '84', 'Unit Price': '152.58', 'Unit Cost': '97.44', 'Total Revenue': '12816.72', 'Total Cost': '8184.96', 'Total Profit': '4631.76'}\n",
      "{'Region': 'Middle East and North Africa', 'Country': 'Algeria', 'Item Type': 'Baby Food', 'Sales Channel': 'Offline', 'Order Priority': 'M', 'Order Date': '12/30/2016', 'Order ID': '705733239', 'Ship Date': '1/25/2017', 'Units Sold': '1003', 'Unit Price': '255.28', 'Unit Cost': '159.42', 'Total Revenue': '256045.84', 'Total Cost': '159898.26', 'Total Profit': '96147.58'}\n",
      "{'Region': 'Sub-Saharan Africa', 'Country': 'Angola', 'Item Type': 'Office Supplies', 'Sales Channel': 'Offline', 'Order Priority': 'C', 'Order Date': '10/3/2015', 'Order ID': '778854548', 'Ship Date': '10/3/2015', 'Units Sold': '9224', 'Unit Price': '651.21', 'Unit Cost': '524.96', 'Total Revenue': '6006761.04', 'Total Cost': '4842231.04', 'Total Profit': '1164530.00'}\n",
      "{'Region': 'Sub-Saharan Africa', 'Country': 'Mauritania', 'Item Type': 'Cosmetics', 'Sales Channel': 'Offline', 'Order Priority': 'M', 'Order Date': '5/30/2014', 'Order ID': '676592862', 'Ship Date': '7/9/2014', 'Units Sold': '7718', 'Unit Price': '437.20', 'Unit Cost': '263.33', 'Total Revenue': '3374309.60', 'Total Cost': '2032380.94', 'Total Profit': '1341928.66'}\n",
      "{'Region': 'Middle East and North Africa', 'Country': 'Lebanon', 'Item Type': 'Household', 'Sales Channel': 'Offline', 'Order Priority': 'M', 'Order Date': '10/15/2014', 'Order ID': '198997008', 'Ship Date': '10/16/2014', 'Units Sold': '6492', 'Unit Price': '668.27', 'Unit Cost': '502.54', 'Total Revenue': '4338408.84', 'Total Cost': '3262489.68', 'Total Profit': '1075919.16'}\n"
     ]
    }
   ],
   "source": [
    "with open(\"sales_record.csv\", \"r\") as file_reader:\n",
    "    if not file_reader.closed:\n",
    "        print(\"File is Open \")\n",
    "    \n",
    "    headers = file_reader.readline().replace(\"\\n\", \"\").split(\",\")\n",
    "    print(headers)\n",
    "    for line in file_reader:\n",
    "        result = create_dict_from_csv(headers, line.replace(\"\\n\",\"\").split(\",\"))\n",
    "        print(result)\n",
    "    "
   ]
  },
  {
   "cell_type": "code",
   "execution_count": null,
   "id": "6cf4542d",
   "metadata": {},
   "outputs": [],
   "source": []
  }
 ],
 "metadata": {
  "kernelspec": {
   "display_name": "Python 3 (ipykernel)",
   "language": "python",
   "name": "python3"
  },
  "language_info": {
   "codemirror_mode": {
    "name": "ipython",
    "version": 3
   },
   "file_extension": ".py",
   "mimetype": "text/x-python",
   "name": "python",
   "nbconvert_exporter": "python",
   "pygments_lexer": "ipython3",
   "version": "3.9.13"
  }
 },
 "nbformat": 4,
 "nbformat_minor": 5
}
