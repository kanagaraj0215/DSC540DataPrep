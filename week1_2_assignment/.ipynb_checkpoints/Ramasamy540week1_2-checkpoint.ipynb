{
 "cells": [
  {
   "cell_type": "markdown",
   "id": "a99abce5",
   "metadata": {},
   "source": [
    "# 2. Create a Jupyter notebook where you create a list, iterate over the list and sort your results, generate random numbers, add to the list, and then print your results."
   ]
  },
  {
   "cell_type": "code",
   "execution_count": null,
   "id": "5c5d3d67",
   "metadata": {},
   "outputs": [],
   "source": [
    "list_assign1 = [61, 37, 24, 45, 89, 46, -18, 0, 22]"
   ]
  },
  {
   "cell_type": "code",
   "execution_count": null,
   "id": "d8d77c8a",
   "metadata": {},
   "outputs": [],
   "source": [
    "for val in list_assign1:\n",
    "    print(val)"
   ]
  },
  {
   "cell_type": "code",
   "execution_count": null,
   "id": "2b8f8226",
   "metadata": {},
   "outputs": [],
   "source": [
    "list_assign1.sort()\n",
    "list_assign1"
   ]
  },
  {
   "cell_type": "code",
   "execution_count": null,
   "id": "ab0cd644",
   "metadata": {},
   "outputs": [],
   "source": [
    "import random\n",
    "\n",
    "for val1 in random.sample(range(1, 100), 5):\n",
    "    list_assign1.append(val1)\n",
    "    \n",
    "list_assign1    "
   ]
  },
  {
   "cell_type": "markdown",
   "id": "3dfe0f02",
   "metadata": {},
   "source": [
    "# 3. Create a line chart with Matplotlib and the following data file.\n",
    "a. Data file: world-population.xlsm\n",
    "b. (Hint: Python for Data Analysis: Page 19-50 & Data Wrangling with Python: Preface)"
   ]
  },
  {
   "cell_type": "code",
   "execution_count": null,
   "id": "2b491bd0",
   "metadata": {},
   "outputs": [],
   "source": [
    "import pandas as pd\n",
    "import matplotlib.pyplot as plt\n",
    "\n",
    "file_path = 'C:/Users/kanag/Desktop/MS_degress/Data_Preparation_5/git/DSC540DataPrep/week1_2_assignment/world-population.xlsm'\n",
    "world_pop_df = pd.read_excel(file_path, sheet_name=0)\n",
    "type(world_pop_df)\n",
    "plt.plot(world_pop_df.Year,world_pop_df.Population)\n",
    "plt.xlabel(\"Year\")\n",
    "plt.ylabel(\"Population\")\n",
    "plt.title(\"Year vs Population\")\n",
    "plt.show()"
   ]
  },
  {
   "cell_type": "markdown",
   "id": "903b59ea",
   "metadata": {},
   "source": [
    "# 4. Complete the following activities:"
   ]
  },
  {
   "cell_type": "markdown",
   "id": "f0cc53d2",
   "metadata": {},
   "source": [
    "## a. Data Wrangling with Python: Activity 1 page 17\n",
    "Activity 1: Handling Lists\n",
    "In this activity, we will generate a list of random numbers and then generate another list from the first one, which only contains numbers that are divisible by three. Repeat the experiment three times. Then, we will calculate the average difference of length between the two lists.\n",
    "\n",
    "These are the steps for completing this activity:\n",
    "\n",
    "1. Create a list of 100 random numbers.\n",
    "2. Create a new list from this random list, with numbers that are divisible by 3.\n",
    "3. Calculate the length of these two lists and store the difference in a new variable.\n",
    "4. Using a loop, perform steps 2 and 3 and find the difference variable three times.\n",
    "5. Find the arithmetic mean of these three difference values."
   ]
  },
  {
   "cell_type": "code",
   "execution_count": null,
   "id": "e1c1e62b",
   "metadata": {},
   "outputs": [],
   "source": [
    "list1 = [ x for x in random.sample(range(1, 1000), 100) ]\n"
   ]
  },
  {
   "cell_type": "code",
   "execution_count": null,
   "id": "c53840cc",
   "metadata": {},
   "outputs": [],
   "source": [
    "list2 = [x for x in list1 if x % 3 ==0]\n",
    "list2"
   ]
  },
  {
   "cell_type": "code",
   "execution_count": null,
   "id": "f0ff7328",
   "metadata": {},
   "outputs": [],
   "source": [
    "list1_random_num_len = len(list1)\n",
    "list2_3_div_num_len = len(list2)\n",
    "lists_len_diff = list1_random_num_len - list2_3_div_num_len\n",
    "\n"
   ]
  },
  {
   "cell_type": "code",
   "execution_count": null,
   "id": "e70b8c64",
   "metadata": {},
   "outputs": [],
   "source": [
    "diff_var_list= []\n",
    "i = 1\n",
    "while i < 4:\n",
    "    list1 = [ x for x in random.sample(range(1, 1000), 100) ]\n",
    "    list2 = [x for x in list1 if x % 3 ==0]\n",
    "    list1_random_num_len = len(list1)\n",
    "    list2_3_div_num_len = len(list2)\n",
    "    lists_len_diff = list1_random_num_len - list2_3_div_num_len\n",
    "    diff_var_list.append(lists_len_diff)\n",
    "    i += 1\n",
    "    \n",
    "diff_var_list    \n",
    "    \n",
    "    "
   ]
  },
  {
   "cell_type": "markdown",
   "id": "863c38f9",
   "metadata": {},
   "source": []
  },
  {
   "cell_type": "code",
   "execution_count": null,
   "id": "aa044f6e",
   "metadata": {},
   "outputs": [],
   "source": [
    "mean_val = sum(diff_var_list) / len(diff_var_list)\n",
    "mean_val"
   ]
  },
  {
   "cell_type": "markdown",
   "id": "eb282ae7",
   "metadata": {},
   "source": [
    "## b. Data Wrangling with Python: Activity 2 page 31\n",
    "Activity 2: Analyze a Multiline String and Generate the Unique Word Count\n",
    "This section will ensure that you have understood the various basic data structures and their manipulation. We will do that by going through an activity that has been designed specifically for this purpose.\n",
    "\n",
    "In this activity, we will do the following:\n",
    "\n",
    "Get multiline text and save it in a Python variable\n",
    "Get rid of all new lines in it using string methods\n",
    "Get all the unique words and their occurrences from the string\n",
    "Repeat the step to find all unique words and occurrences, without considering case sensitivity\n",
    "Note\n",
    "For the sake of simplicity for this activity, the original text (which can be found at https://www.gutenberg.org/files/1342/1342-h/1342-h.htm) has been pre-processed a bit.\n",
    "\n",
    "These are the steps to guide you through solving this activity:\n",
    "\n",
    "Create a mutliline_text variable by copying the text from the first chapter of Pride and Prejudice.\n",
    "Note\n",
    "The first chapter of Pride and Prejudice by Jane Austen has been made available on the GitHub repository at https://github.com/TrainingByPackt/Data-Wrangling-with-Python/blob/master/Chapter01/Activity02/.\n",
    "\n",
    "Find the type and length of the multiline_text string using the commands type and len.\n",
    "Remove all new lines and symbols using the replace function.\n",
    "Find all of the words in multiline_text using the split function.\n",
    "Create a list from this list that will contain only the unique words.\n",
    "Count the number of times the unique word has appeared in the list using the key and value in dict.\n",
    "Find the top 25 words from the unique words that you have found using the slice function.\n",
    "You just created, step by step, a unique word counter using all the neat tricks that you learned about in this chapter."
   ]
  },
  {
   "cell_type": "code",
   "execution_count": null,
   "id": "1d6cc278",
   "metadata": {},
   "outputs": [],
   "source": [
    "mutiline_text = \"\"\"It is a truth universally acknowledged, that a single man in possession of a good fortune, must be in want of a wife.\n",
    "\n",
    "However little known the feelings or views of such a man may be on his first entering a neighbourhood, this truth is so well fixed in the minds of the surrounding families, that he is considered the rightful property of some one or other of their daughters.\n",
    "\n",
    "\"My dear Mr. Bennet,\" said his lady to him one day, \"have you heard that Netherfield Park is let at last?\"\n",
    "\n",
    "Mr. Bennet replied that he had not.\n",
    "\n",
    "\"But it is,\" returned she; \"for Mrs. Long has just been here, and she told me all about it.\"\n",
    "\n",
    "Mr. Bennet made no answer.\n",
    "\n",
    "\"Do you not want to know who has taken it?\" cried his wife impatiently.\n",
    "\n",
    "\"You want to tell me, and I have no objection to hearing it.\"\n",
    "\n",
    "This was invitation enough.\n",
    "\n",
    "\"Why, my dear, you must know, Mrs. Long says that Netherfield is taken by a young man of large fortune from the north of England; that he came down on Monday in a chaise and four to see the place, and was so much delighted with it, that he agreed with Mr. Morris immediately; that he is to take possession before Michaelmas, and some of his servants are to be in the house by the end of next week.\"\n",
    "\n",
    "\"What is his name?\"\n",
    "\n",
    "\"Bingley.\"\n",
    "\n",
    "\"Is he married or single?\"\n",
    "\n",
    "\"Oh! Single, my dear, to be sure! A single man of large fortune; four or five thousand a year. What a fine thing for our girls!\"\n",
    "\n",
    "\"How so? How can it affect them?\"\n",
    "\n",
    "\"My dear Mr. Bennet,\" replied his wife, \"how can you be so tiresome! You must know that I am thinking of his marrying one of them.\"\n",
    "\n",
    "\"Is that his design in settling here?\"\n",
    "\n",
    "\"Design! Nonsense, how can you talk so! But it is very likely that he may fall in love with one of them, and therefore you must visit him as soon as he comes.\"\n",
    "\n",
    "\"I see no occasion for that. You and the girls may go, or you may send them by themselves, which perhaps will be still better, for as you are as handsome as any of them, Mr. Bingley may like you the best of the party.\"\n",
    "\n",
    "\"My dear, you flatter me. I certainly have had my share of beauty, but I do not pretend to be anything extraordinary now. When a woman has five grown-up daughters, she ought to give over thinking of her own beauty.\"\n",
    "\n",
    "\"In such cases, a woman has not often much beauty to think of.\"\n",
    "\n",
    "\"But, my dear, you must indeed go and see Mr. Bingley when he comes into the neighbourhood.\"\n",
    "\n",
    "\"It is more than I engage for, I assure you.\"\n",
    "\n",
    "\"But consider your daughters. Only think what an establishment it would be for one of them. Sir William and Lady Lucas are determined to go, merely on that account, for in general, you know, they visit no newcomers. Indeed you must go, for it will be impossible for us to visit him if you do not.\"\n",
    "\n",
    "\"You are over-scrupulous, surely. I dare say Mr. Bingley will be very glad to see you; and I will send a few lines by you to assure him of my hearty consent to his marrying whichever he chooses of the girls; though I must throw in a good word for my little Lizzy.\"\n",
    "\n",
    "\"I desire you will do no such thing. Lizzy is not a bit better than the others; and I am sure she is not half so handsome as Jane, nor half so good-humoured as Lydia. But you are always giving her the preference.\"\n",
    "\n",
    "\"They have none of them much to recommend them,\" replied he; \"they are all silly and ignorant like other girls; but Lizzy has something more of quickness than her sisters.\"\n",
    "\n",
    "\"Mr. Bennet, how can you abuse your own children in such a way? You take delight in vexing me. You have no compassion for my poor nerves.\"\n",
    "\n",
    "\"You mistake me, my dear. I have a high respect for your nerves. They are my old friends. I have heard you mention them with consideration these last twenty years at least.\"\n",
    "\n",
    "\"Ah, you do not know what I suffer.\"\n",
    "\n",
    "\"But I hope you will get over it, and live to see many young men of four thousand a year come into the neighbourhood.\"\n",
    "\n",
    "\"It will be no use to us, if twenty such should come, since you will not visit them.\"\n",
    "\n",
    "\"Depend upon it, my dear, that when there are twenty, I will visit them all.\"\n",
    "\n",
    "Mr. Bennet was so odd a mixture of quick parts, sarcastic humour, reserve, and caprice, that the experience of three-and-twenty years had been insufficient to make his wife understand his character. Her mind was less difficult to develop. She was a woman of mean understanding, little information, and uncertain temper. When she was discontented, she fancied herself nervous. The business of her life was to get her daughters married; its solace was visiting and news. \"\"\"\n"
   ]
  },
  {
   "cell_type": "code",
   "execution_count": null,
   "id": "01b925fd",
   "metadata": {},
   "outputs": [],
   "source": [
    "type(mutiline_text)"
   ]
  },
  {
   "cell_type": "code",
   "execution_count": null,
   "id": "630bd491",
   "metadata": {},
   "outputs": [],
   "source": [
    "len(mutiline_text)"
   ]
  },
  {
   "cell_type": "code",
   "execution_count": null,
   "id": "0f99e2cf",
   "metadata": {},
   "outputs": [],
   "source": [
    "mutiline_text = mutiline_text.replace('\\n', \"\")"
   ]
  },
  {
   "cell_type": "code",
   "execution_count": null,
   "id": "256eaa77",
   "metadata": {},
   "outputs": [],
   "source": [
    "cleansed_text = \"\"\n",
    "\n",
    "for character in mutiline_text:\n",
    "    if character.isalnum():\n",
    "        cleansed_text += character\n",
    "    else:\n",
    "         cleansed_text += \" \"\n",
    "cleansed_text  "
   ]
  },
  {
   "cell_type": "code",
   "execution_count": null,
   "id": "b763685f",
   "metadata": {},
   "outputs": [],
   "source": [
    "word_list = cleansed_text.split()"
   ]
  },
  {
   "cell_type": "code",
   "execution_count": null,
   "id": "e1cbb0ec",
   "metadata": {},
   "outputs": [],
   "source": [
    "unique_word_list = list(set(word_list))\n",
    "len(unique_word_list)"
   ]
  },
  {
   "cell_type": "code",
   "execution_count": null,
   "id": "988b0058",
   "metadata": {},
   "outputs": [],
   "source": [
    "uniq_word_count_dict = dict.fromkeys(word_list)\n",
    "len(uniq_word_count_dict.keys())"
   ]
  },
  {
   "cell_type": "code",
   "execution_count": null,
   "id": "513d282d",
   "metadata": {},
   "outputs": [],
   "source": [
    "for key in word_list:\n",
    "    if uniq_word_count_dict[key] is None:\n",
    "        uniq_word_count_dict[key] = 1\n",
    "    else:    \n",
    "        uniq_word_count_dict[key] += 1\n",
    "    "
   ]
  },
  {
   "cell_type": "code",
   "execution_count": null,
   "id": "bded9eb5",
   "metadata": {},
   "outputs": [],
   "source": [
    "top_25_word_counts = sorted(uniq_word_count_dict.items(), key = lambda x:x[1],reverse=True)[:25]\n",
    "top_25_word_counts"
   ]
  },
  {
   "cell_type": "code",
   "execution_count": null,
   "id": "8a72857c",
   "metadata": {},
   "outputs": [],
   "source": []
  },
  {
   "cell_type": "markdown",
   "id": "2ba34958",
   "metadata": {},
   "source": [
    "# 3. Activity 3: Permutation, Iterator, Lambda, List\n",
    "In this activity, we will be using permutations to generate all possible three-digit numbers that can be generated using 0, 1, and 2. Then, loop over this iterator, and also use isinstance and assert to make sure that the return types are tuples. Also, use a single line of code involving dropwhile and lambda expressions to convert all the tuples to lists while dropping any leading zeros (for example, (0, 1, 2) becomes [1, 2]). Finally, write a function that takes a list like before and returns the actual number contained in it.\n",
    "\n",
    "These steps will guide you to solve this activity:\n",
    "\n",
    "Look up the definition of permutations and dropwhile from itertools.\n",
    "Write an expression to generate all the possible three-digit numbers using 0, 1, and 2.\n",
    "Loop over the iterator expression you generated before. Print each element that's returned by the iterator. Use assert and isinstance to make sure that the elements are of the tuple type.\n",
    "Write the loop again using dropwhile with a lambda expression to drop any leading zeros from the tuples. As an example, (0, 1, 2) will become [0, 2]. Also, cast the output of dropwhile to a list.\n",
    "Check the actual type that dropwhile returns.\n",
    "Combine the preceding code into one block, and this time write a separate function where you will pass the list generated from dropwhile, and the function will return the whole number contained in the list. As an example, if you pass [1, 2] to the function, it will return 12. Make sure that the return type is indeed a number and not a string. Although this task can be achieved using other tricks, we require that you treat the incoming list as a stack in the function and generate the number by reading the individual digits from the stack."
   ]
  },
  {
   "cell_type": "code",
   "execution_count": null,
   "id": "aca294f3",
   "metadata": {},
   "outputs": [],
   "source": [
    "from itertools import  (permutations, combinations, dropwhile, repeat,zip_longest)\n",
    "\n",
    "permutations?\n"
   ]
  },
  {
   "cell_type": "code",
   "execution_count": null,
   "id": "fd9406fd",
   "metadata": {},
   "outputs": [],
   "source": [
    "dropwhile?"
   ]
  },
  {
   "cell_type": "code",
   "execution_count": null,
   "id": "4bb1951a",
   "metadata": {},
   "outputs": [],
   "source": [
    "perm_iter = permutations(range(3), 3)\n",
    "for i in perm_iter:\n",
    "    print(i)\n",
    "    assert isinstance(i, tuple)\n",
    "\n",
    "\n"
   ]
  },
  {
   "cell_type": "code",
   "execution_count": null,
   "id": "f66cb1c8",
   "metadata": {},
   "outputs": [],
   "source": [
    "perm_iter_dropwhile = permutations(range(3), 3)\n",
    "\n",
    "list_dropwhile = []\n",
    "\n",
    "for i in perm_iter_dropwhile:\n",
    "    dropwhile_out = dropwhile(lambda x: x <= 0, i)\n",
    "    print(type(dropwhile_out))\n",
    "    list_dropwhile.append(list(dropwhile_out))\n",
    "\n",
    "print(list_dropwhile)"
   ]
  },
  {
   "cell_type": "code",
   "execution_count": null,
   "id": "78a8cfae",
   "metadata": {},
   "outputs": [],
   "source": [
    "import math\n",
    "\n",
    "def create_number(list_input):\n",
    "    out_number =0\n",
    "    for i in range(0,len(list_input)):\n",
    "        out_number += (list_input.pop() * (math.pow(10,i)))\n",
    "        \n",
    "    return out_number    \n",
    "    "
   ]
  },
  {
   "cell_type": "code",
   "execution_count": null,
   "id": "3b870379",
   "metadata": {},
   "outputs": [],
   "source": [
    "for i in list_dropwhile:\n",
    "    print(create_number(i))"
   ]
  },
  {
   "cell_type": "code",
   "execution_count": null,
   "id": "59ae0ec0",
   "metadata": {},
   "outputs": [],
   "source": [
    "math.pow(10,1)"
   ]
  },
  {
   "cell_type": "code",
   "execution_count": null,
   "id": "5387b919",
   "metadata": {},
   "outputs": [],
   "source": []
  }
 ],
 "metadata": {
  "kernelspec": {
   "display_name": "Python 3 (ipykernel)",
   "language": "python",
   "name": "python3"
  },
  "language_info": {
   "codemirror_mode": {
    "name": "ipython",
    "version": 3
   },
   "file_extension": ".py",
   "mimetype": "text/x-python",
   "name": "python",
   "nbconvert_exporter": "python",
   "pygments_lexer": "ipython3",
   "version": "3.9.13"
  }
 },
 "nbformat": 4,
 "nbformat_minor": 5
}
