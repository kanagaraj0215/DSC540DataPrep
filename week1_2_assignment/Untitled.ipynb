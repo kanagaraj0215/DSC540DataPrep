{
 "cells": [
  {
   "cell_type": "code",
   "execution_count": 1,
   "id": "4cf82afc",
   "metadata": {},
   "outputs": [
    {
     "name": "stdout",
     "output_type": "stream",
     "text": [
      "environ({'ALLUSERSPROFILE': 'C:\\\\ProgramData', 'APPDATA': 'C:\\\\Users\\\\kanag\\\\AppData\\\\Roaming', 'ASL.LOG': 'Destination=file', 'COMMONPROGRAMFILES': 'C:\\\\Program Files\\\\Common Files', 'COMMONPROGRAMFILES(X86)': 'C:\\\\Program Files (x86)\\\\Common Files', 'COMMONPROGRAMW6432': 'C:\\\\Program Files\\\\Common Files', 'COMPUTERNAME': 'DESKTOP-MAEGCRA', 'COMSPEC': 'C:\\\\WINDOWS\\\\system32\\\\cmd.exe', 'CONDA_DEFAULT_ENV': 'base', 'CONDA_EXE': 'C:\\\\Users\\\\kanag\\\\python\\\\anaconda\\\\anaconda3\\\\Scripts\\\\conda.exe', 'CONDA_PREFIX': 'C:\\\\Users\\\\kanag\\\\python\\\\anaconda\\\\anaconda3', 'CONDA_PROMPT_MODIFIER': '(base) ', 'CONDA_PYTHON_EXE': 'C:\\\\Users\\\\kanag\\\\python\\\\anaconda\\\\anaconda3\\\\python.exe', 'CONDA_SHLVL': '1', 'DRIVERDATA': 'C:\\\\Windows\\\\System32\\\\Drivers\\\\DriverData', 'HADOOP_HOME': 'C:\\\\hadoop', 'HOMEDRIVE': 'C:', 'HOMEPATH': '\\\\Users\\\\kanag', 'INTELLIJ IDEA EDUCATIONAL EDITION': 'C:\\\\Program Files\\\\JetBrains\\\\IntelliJ IDEA Educational Edition 2022.1.1\\\\bin;', 'JAVA_HOME': 'C:\\\\Program Files\\\\Java\\\\jdk1.8.0_301', 'JENKINS_HOME': 'C:\\\\Users\\\\kanag\\\\.jenkins', 'LOCALAPPDATA': 'C:\\\\Users\\\\kanag\\\\AppData\\\\Local', 'LOGONSERVER': '\\\\\\\\DESKTOP-MAEGCRA', 'NUMBER_OF_PROCESSORS': '16', 'ONEDRIVE': 'C:\\\\Users\\\\kanag\\\\OneDrive', 'ONEDRIVECONSUMER': 'C:\\\\Users\\\\kanag\\\\OneDrive', 'OPENNI2_INCLUDE64': 'C:\\\\Program Files\\\\OpenNI2\\\\Include\\\\', 'OPENNI2_LIB64': 'C:\\\\Program Files\\\\OpenNI2\\\\Lib\\\\', 'OPENNI2_REDIST64': 'C:\\\\Program Files\\\\OpenNI2\\\\Redist\\\\', 'OS': 'Windows_NT', 'PATH': 'C:\\\\Users\\\\kanag\\\\python\\\\anaconda\\\\anaconda3;C:\\\\Users\\\\kanag\\\\python\\\\anaconda\\\\anaconda3\\\\Library\\\\mingw-w64\\\\bin;C:\\\\Users\\\\kanag\\\\python\\\\anaconda\\\\anaconda3\\\\Library\\\\usr\\\\bin;C:\\\\Users\\\\kanag\\\\python\\\\anaconda\\\\anaconda3\\\\Library\\\\bin;C:\\\\Users\\\\kanag\\\\python\\\\anaconda\\\\anaconda3\\\\Scripts;C:\\\\Users\\\\kanag\\\\python\\\\anaconda\\\\anaconda3\\\\bin;C:\\\\Users\\\\kanag\\\\python\\\\anaconda\\\\anaconda3\\\\condabin;C:\\\\Program Files\\\\Python38\\\\Scripts;C:\\\\Program Files\\\\Python38;C:\\\\Windows\\\\system32;C:\\\\Windows;C:\\\\Windows\\\\System32\\\\Wbem;C:\\\\Windows\\\\System32\\\\WindowsPowerShell\\\\v1.0;C:\\\\Windows\\\\System32\\\\OpenSSH;C:\\\\Program Files (x86)\\\\NVIDIA Corporation\\\\PhysX\\\\Common;C:\\\\Program Files\\\\NVIDIA Corporation\\\\NVIDIA NvDLISR;C:\\\\kanagProject\\\\node;C:\\\\Program Files\\\\PuTTY;C:\\\\Program Files\\\\Amazon\\\\AWSCLIV2;C:\\\\Program Files\\\\Java\\\\jdk1.8.0_301\\\\bin;C:\\\\spark\\\\bin;C:\\\\hadoop\\\\bin;C:\\\\Program Files (x86)\\\\gnupg\\\\bin;C:\\\\WINDOWS\\\\system32;C:\\\\WINDOWS;C:\\\\WINDOWS\\\\System32\\\\Wbem;C:\\\\WINDOWS\\\\System32\\\\WindowsPowerShell\\\\v1.0;C:\\\\WINDOWS\\\\System32\\\\OpenSSH;C:\\\\Program Files\\\\dotnet;C:\\\\Program Files\\\\Git\\\\cmd;C:\\\\Program Files (x86)\\\\dotnet;C:\\\\Users\\\\kanag\\\\AppData\\\\Roaming\\\\TinyTeX\\\\bin\\\\win32;C:\\\\Program Files (x86)\\\\Python\\\\Python39\\\\Scripts;C:\\\\Program Files (x86)\\\\Python\\\\Python39;C:\\\\Program Files\\\\MySQL\\\\MySQL Shell 8.0\\\\bin;C:\\\\Users\\\\kanag\\\\AppData\\\\Local\\\\Microsoft\\\\WindowsApps;C:\\\\Users\\\\kanag\\\\AppData\\\\Roaming\\\\npm;C:\\\\Program Files\\\\JetBrains\\\\IntelliJ IDEA Educational Edition 2022.1.1\\\\bin;.;C:\\\\Program Files\\\\JetBrains\\\\PyCharm Edu 2022.1.1\\\\bin;.;C:\\\\Users\\\\kanag\\\\AppData\\\\Local\\\\GitHubDesktop\\\\bin;C:\\\\Users\\\\kanag\\\\R\\\\miktex\\\\miktex\\\\bin\\\\x64;.', 'PATHEXT': '.COM;.EXE;.BAT;.CMD;.VBS;.VBE;.JS;.JSE;.WSF;.WSH;.MSC;.PY;.PYW', 'PROCESSOR_ARCHITECTURE': 'AMD64', 'PROCESSOR_IDENTIFIER': 'Intel64 Family 6 Model 165 Stepping 5, GenuineIntel', 'PROCESSOR_LEVEL': '6', 'PROCESSOR_REVISION': 'a505', 'PROGRAMDATA': 'C:\\\\ProgramData', 'PROGRAMFILES': 'C:\\\\Program Files', 'PROGRAMFILES(X86)': 'C:\\\\Program Files (x86)', 'PROGRAMW6432': 'C:\\\\Program Files', 'PROMPT': '(base) $P$G', 'PSMODULEPATH': 'C:\\\\Program Files\\\\WindowsPowerShell\\\\Modules;C:\\\\WINDOWS\\\\system32\\\\WindowsPowerShell\\\\v1.0\\\\Modules', 'PUBLIC': 'C:\\\\Users\\\\Public', 'PYCHARM EDU': 'C:\\\\Program Files\\\\JetBrains\\\\PyCharm Edu 2022.1.1\\\\bin;', 'SESSIONNAME': 'Console', 'SPARK_HOME': 'C:\\\\spark', 'SYSTEMDRIVE': 'C:', 'SYSTEMROOT': 'C:\\\\WINDOWS', 'TEMP': 'C:\\\\Users\\\\kanag\\\\AppData\\\\Local\\\\Temp', 'TMP': 'C:\\\\Users\\\\kanag\\\\AppData\\\\Local\\\\Temp', 'USERDOMAIN': 'DESKTOP-MAEGCRA', 'USERDOMAIN_ROAMINGPROFILE': 'DESKTOP-MAEGCRA', 'USERNAME': 'kanag', 'USERPROFILE': 'C:\\\\Users\\\\kanag', 'WINDIR': 'C:\\\\WINDOWS', 'ZES_ENABLE_SYSMAN': '1', 'PYDEVD_USE_FRAME_EVAL': 'NO', 'JPY_INTERRUPT_EVENT': '2880', 'IPY_INTERRUPT_EVENT': '2880', 'JPY_PARENT_PID': '2868', 'TERM': 'xterm-color', 'CLICOLOR': '1', 'PAGER': 'cat', 'GIT_PAGER': 'cat', 'MPLBACKEND': 'module://matplotlib_inline.backend_inline'})\n"
     ]
    }
   ],
   "source": [
    "import os\n",
    "print(os.environ)"
   ]
  },
  {
   "cell_type": "code",
   "execution_count": null,
   "id": "a261700d",
   "metadata": {},
   "outputs": [],
   "source": []
  }
 ],
 "metadata": {
  "kernelspec": {
   "display_name": "Python 3 (ipykernel)",
   "language": "python",
   "name": "python3"
  },
  "language_info": {
   "codemirror_mode": {
    "name": "ipython",
    "version": 3
   },
   "file_extension": ".py",
   "mimetype": "text/x-python",
   "name": "python",
   "nbconvert_exporter": "python",
   "pygments_lexer": "ipython3",
   "version": "3.9.13"
  }
 },
 "nbformat": 4,
 "nbformat_minor": 5
}
